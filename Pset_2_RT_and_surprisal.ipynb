{
  "cells": [
    {
      "cell_type": "markdown",
      "metadata": {
        "id": "view-in-github",
        "colab_type": "text"
      },
      "source": [
        "<a href=\"https://colab.research.google.com/github/Specril/n-gram-machine-learning-language-model/blob/main/Pset_2_RT_and_surprisal.ipynb\" target=\"_parent\"><img src=\"https://colab.research.google.com/assets/colab-badge.svg\" alt=\"Open In Colab\"/></a>"
      ]
    },
    {
      "cell_type": "markdown",
      "metadata": {
        "id": "pBT0ubqX2Orw"
      },
      "source": [
        "This executable notebook will guide you through Pset_2 - The Relationship between Surprisal and RTs:\n",
        "\n",
        "---\n",
        "\n",
        "Reminder, a few Colab-specific things to note about execution before we get started:\n",
        "\n",
        "- Google offers free compute (including GPU compute!) on this notebook, but *only for a limited time*. Your session will be automatically closed after 12 hours. That means you'll want to finish within 12 hours of starting, or make sure to save your intermediate work (see the next bullet).\n",
        "- You can save and write files from this notebook, but they are *not guaranteed to persist*. For this reason, we'll mount a Google Drive account and write to that Drive when any files need to be kept permanently (e.g. model checkpoints, surprisal data, etc.).\n",
        "- You should keep this tab open until you're completely finished with the notebook. If you close the tab, your session will be marked as \"Idle\" and may be terminated.\n",
        "\n",
        "# Getting started\n",
        "\n",
        "**First**, make a copy of this notebook so you can make your own changes. Click *File -> Save a copy in Drive*.\n",
        "\n",
        "### What you need to do\n",
        "\n",
        "Read through this notebook and execute each cell in sequence, making modifications and adding code where necessary. You should execute all of the code as instructed, and make sure to write code or textual responses wherever the text **TODO** shows up in text and code cells.\n",
        "\n",
        "When you're finished, download the notebook as a PDF file by running the script in the last cell, or alternatively download it as an .ipynb file and locally convert it to PDF.\n"
      ]
    },
    {
      "cell_type": "markdown",
      "metadata": {
        "id": "05fDIF9GPTI4"
      },
      "source": [
        "### Load ngram surprisals\n",
        "\n",
        "\n",
        "Let's fetch the `ngram` surprisal file:"
      ]
    },
    {
      "cell_type": "code",
      "source": [
        "import pandas as pd\n",
        "surprisals = pd.read_csv('https://gist.githubusercontent.com/omershubi/f19f77f5157f7ba7ea1adf72a72847da/raw/d5d553b1217ea70fe3261ce5d9a0532f29769817/5gram_surprisals.tsv', index_col=False, sep='\\t')\n",
        "surprisals"
      ],
      "metadata": {
        "id": "7TeuobEYNCzT",
        "colab": {
          "base_uri": "https://localhost:8080/",
          "height": 424
        },
        "outputId": "428d81a1-5d51-4569-d7c9-6674b786558a"
      },
      "execution_count": null,
      "outputs": [
        {
          "output_type": "execute_result",
          "data": {
            "text/plain": [
              "      sentence_id  token_id   token  surprisal\n",
              "0               1         1      In    4.57937\n",
              "1               1         2   <unk>    7.45049\n",
              "2               1         3  County   12.65410\n",
              "3               1         4   <unk>    6.11317\n",
              "4               1         5    near   12.22380\n",
              "...           ...       ...     ...        ...\n",
              "7693          464        17       a    3.23962\n",
              "7694          464        18  leader   12.81650\n",
              "7695          464        19     and    5.90348\n",
              "7696          464        20   <unk>    4.62292\n",
              "7697          464        21    </s>   11.10650\n",
              "\n",
              "[7698 rows x 4 columns]"
            ],
            "text/html": [
              "\n",
              "  <div id=\"df-4b550474-e6d4-4c82-9eb7-9804f3dcb126\">\n",
              "    <div class=\"colab-df-container\">\n",
              "      <div>\n",
              "<style scoped>\n",
              "    .dataframe tbody tr th:only-of-type {\n",
              "        vertical-align: middle;\n",
              "    }\n",
              "\n",
              "    .dataframe tbody tr th {\n",
              "        vertical-align: top;\n",
              "    }\n",
              "\n",
              "    .dataframe thead th {\n",
              "        text-align: right;\n",
              "    }\n",
              "</style>\n",
              "<table border=\"1\" class=\"dataframe\">\n",
              "  <thead>\n",
              "    <tr style=\"text-align: right;\">\n",
              "      <th></th>\n",
              "      <th>sentence_id</th>\n",
              "      <th>token_id</th>\n",
              "      <th>token</th>\n",
              "      <th>surprisal</th>\n",
              "    </tr>\n",
              "  </thead>\n",
              "  <tbody>\n",
              "    <tr>\n",
              "      <th>0</th>\n",
              "      <td>1</td>\n",
              "      <td>1</td>\n",
              "      <td>In</td>\n",
              "      <td>4.57937</td>\n",
              "    </tr>\n",
              "    <tr>\n",
              "      <th>1</th>\n",
              "      <td>1</td>\n",
              "      <td>2</td>\n",
              "      <td>&lt;unk&gt;</td>\n",
              "      <td>7.45049</td>\n",
              "    </tr>\n",
              "    <tr>\n",
              "      <th>2</th>\n",
              "      <td>1</td>\n",
              "      <td>3</td>\n",
              "      <td>County</td>\n",
              "      <td>12.65410</td>\n",
              "    </tr>\n",
              "    <tr>\n",
              "      <th>3</th>\n",
              "      <td>1</td>\n",
              "      <td>4</td>\n",
              "      <td>&lt;unk&gt;</td>\n",
              "      <td>6.11317</td>\n",
              "    </tr>\n",
              "    <tr>\n",
              "      <th>4</th>\n",
              "      <td>1</td>\n",
              "      <td>5</td>\n",
              "      <td>near</td>\n",
              "      <td>12.22380</td>\n",
              "    </tr>\n",
              "    <tr>\n",
              "      <th>...</th>\n",
              "      <td>...</td>\n",
              "      <td>...</td>\n",
              "      <td>...</td>\n",
              "      <td>...</td>\n",
              "    </tr>\n",
              "    <tr>\n",
              "      <th>7693</th>\n",
              "      <td>464</td>\n",
              "      <td>17</td>\n",
              "      <td>a</td>\n",
              "      <td>3.23962</td>\n",
              "    </tr>\n",
              "    <tr>\n",
              "      <th>7694</th>\n",
              "      <td>464</td>\n",
              "      <td>18</td>\n",
              "      <td>leader</td>\n",
              "      <td>12.81650</td>\n",
              "    </tr>\n",
              "    <tr>\n",
              "      <th>7695</th>\n",
              "      <td>464</td>\n",
              "      <td>19</td>\n",
              "      <td>and</td>\n",
              "      <td>5.90348</td>\n",
              "    </tr>\n",
              "    <tr>\n",
              "      <th>7696</th>\n",
              "      <td>464</td>\n",
              "      <td>20</td>\n",
              "      <td>&lt;unk&gt;</td>\n",
              "      <td>4.62292</td>\n",
              "    </tr>\n",
              "    <tr>\n",
              "      <th>7697</th>\n",
              "      <td>464</td>\n",
              "      <td>21</td>\n",
              "      <td>&lt;/s&gt;</td>\n",
              "      <td>11.10650</td>\n",
              "    </tr>\n",
              "  </tbody>\n",
              "</table>\n",
              "<p>7698 rows × 4 columns</p>\n",
              "</div>\n",
              "      <button class=\"colab-df-convert\" onclick=\"convertToInteractive('df-4b550474-e6d4-4c82-9eb7-9804f3dcb126')\"\n",
              "              title=\"Convert this dataframe to an interactive table.\"\n",
              "              style=\"display:none;\">\n",
              "        \n",
              "  <svg xmlns=\"http://www.w3.org/2000/svg\" height=\"24px\"viewBox=\"0 0 24 24\"\n",
              "       width=\"24px\">\n",
              "    <path d=\"M0 0h24v24H0V0z\" fill=\"none\"/>\n",
              "    <path d=\"M18.56 5.44l.94 2.06.94-2.06 2.06-.94-2.06-.94-.94-2.06-.94 2.06-2.06.94zm-11 1L8.5 8.5l.94-2.06 2.06-.94-2.06-.94L8.5 2.5l-.94 2.06-2.06.94zm10 10l.94 2.06.94-2.06 2.06-.94-2.06-.94-.94-2.06-.94 2.06-2.06.94z\"/><path d=\"M17.41 7.96l-1.37-1.37c-.4-.4-.92-.59-1.43-.59-.52 0-1.04.2-1.43.59L10.3 9.45l-7.72 7.72c-.78.78-.78 2.05 0 2.83L4 21.41c.39.39.9.59 1.41.59.51 0 1.02-.2 1.41-.59l7.78-7.78 2.81-2.81c.8-.78.8-2.07 0-2.86zM5.41 20L4 18.59l7.72-7.72 1.47 1.35L5.41 20z\"/>\n",
              "  </svg>\n",
              "      </button>\n",
              "      \n",
              "  <style>\n",
              "    .colab-df-container {\n",
              "      display:flex;\n",
              "      flex-wrap:wrap;\n",
              "      gap: 12px;\n",
              "    }\n",
              "\n",
              "    .colab-df-convert {\n",
              "      background-color: #E8F0FE;\n",
              "      border: none;\n",
              "      border-radius: 50%;\n",
              "      cursor: pointer;\n",
              "      display: none;\n",
              "      fill: #1967D2;\n",
              "      height: 32px;\n",
              "      padding: 0 0 0 0;\n",
              "      width: 32px;\n",
              "    }\n",
              "\n",
              "    .colab-df-convert:hover {\n",
              "      background-color: #E2EBFA;\n",
              "      box-shadow: 0px 1px 2px rgba(60, 64, 67, 0.3), 0px 1px 3px 1px rgba(60, 64, 67, 0.15);\n",
              "      fill: #174EA6;\n",
              "    }\n",
              "\n",
              "    [theme=dark] .colab-df-convert {\n",
              "      background-color: #3B4455;\n",
              "      fill: #D2E3FC;\n",
              "    }\n",
              "\n",
              "    [theme=dark] .colab-df-convert:hover {\n",
              "      background-color: #434B5C;\n",
              "      box-shadow: 0px 1px 3px 1px rgba(0, 0, 0, 0.15);\n",
              "      filter: drop-shadow(0px 1px 2px rgba(0, 0, 0, 0.3));\n",
              "      fill: #FFFFFF;\n",
              "    }\n",
              "  </style>\n",
              "\n",
              "      <script>\n",
              "        const buttonEl =\n",
              "          document.querySelector('#df-4b550474-e6d4-4c82-9eb7-9804f3dcb126 button.colab-df-convert');\n",
              "        buttonEl.style.display =\n",
              "          google.colab.kernel.accessAllowed ? 'block' : 'none';\n",
              "\n",
              "        async function convertToInteractive(key) {\n",
              "          const element = document.querySelector('#df-4b550474-e6d4-4c82-9eb7-9804f3dcb126');\n",
              "          const dataTable =\n",
              "            await google.colab.kernel.invokeFunction('convertToInteractive',\n",
              "                                                     [key], {});\n",
              "          if (!dataTable) return;\n",
              "\n",
              "          const docLinkHtml = 'Like what you see? Visit the ' +\n",
              "            '<a target=\"_blank\" href=https://colab.research.google.com/notebooks/data_table.ipynb>data table notebook</a>'\n",
              "            + ' to learn more about interactive tables.';\n",
              "          element.innerHTML = '';\n",
              "          dataTable['output_type'] = 'display_data';\n",
              "          await google.colab.output.renderOutput(dataTable, element);\n",
              "          const docLink = document.createElement('div');\n",
              "          docLink.innerHTML = docLinkHtml;\n",
              "          element.appendChild(docLink);\n",
              "        }\n",
              "      </script>\n",
              "    </div>\n",
              "  </div>\n",
              "  "
            ]
          },
          "metadata": {},
          "execution_count": 1
        }
      ]
    },
    {
      "cell_type": "markdown",
      "source": [
        "### Load RT data\n",
        "\n",
        "Let's fetch also the Brown_RTs dataset and see how it looks like\n",
        "\n"
      ],
      "metadata": {
        "id": "7n83hISuwiJ9"
      }
    },
    {
      "cell_type": "code",
      "source": [
        "sprt = pd.read_csv('https://gist.githubusercontent.com/omershubi/01b55eab89b81dc882055e0d27d61016/raw/046dbb7f0586b5dc1a368ee882f2cb923caad3df/brown-spr-data-for-pset.csv', index_col=0).sort_values(by='code')\n",
        "sprt"
      ],
      "metadata": {
        "colab": {
          "base_uri": "https://localhost:8080/",
          "height": 424
        },
        "id": "qYTOpDrWcPAC",
        "outputId": "9dc94234-cc0d-4e29-edc9-5c81981c98db"
      },
      "execution_count": null,
      "outputs": [
        {
          "output_type": "execute_result",
          "data": {
            "text/plain": [
              "            word   code subject  text_id  text_pos  word_in_exp    time\n",
              "2286          In  17000    s001        0         0         2285  399.90\n",
              "109460        In  17000    s028        0         0         2503  290.32\n",
              "50709         In  17000    s014        0         0         1394  501.59\n",
              "80486         In  17000    s021        0         0         2525  210.93\n",
              "35626         In  17000    s010        0         0          579  862.35\n",
              "...          ...    ...     ...      ...       ...          ...     ...\n",
              "79391   captain.  35763    s021       12       763         1430  425.18\n",
              "116505  captain.  35763    s030       12       763         1489  383.32\n",
              "26975   captain.  35763    s007       12       763         3426  506.40\n",
              "15206   captain.  35763    s004       12       763         3528  669.29\n",
              "83386   captain.  35763    s022       12       763          763  304.40\n",
              "\n",
              "[136907 rows x 7 columns]"
            ],
            "text/html": [
              "\n",
              "  <div id=\"df-b7bac4b0-b929-441a-b411-9daf4a187ab3\">\n",
              "    <div class=\"colab-df-container\">\n",
              "      <div>\n",
              "<style scoped>\n",
              "    .dataframe tbody tr th:only-of-type {\n",
              "        vertical-align: middle;\n",
              "    }\n",
              "\n",
              "    .dataframe tbody tr th {\n",
              "        vertical-align: top;\n",
              "    }\n",
              "\n",
              "    .dataframe thead th {\n",
              "        text-align: right;\n",
              "    }\n",
              "</style>\n",
              "<table border=\"1\" class=\"dataframe\">\n",
              "  <thead>\n",
              "    <tr style=\"text-align: right;\">\n",
              "      <th></th>\n",
              "      <th>word</th>\n",
              "      <th>code</th>\n",
              "      <th>subject</th>\n",
              "      <th>text_id</th>\n",
              "      <th>text_pos</th>\n",
              "      <th>word_in_exp</th>\n",
              "      <th>time</th>\n",
              "    </tr>\n",
              "  </thead>\n",
              "  <tbody>\n",
              "    <tr>\n",
              "      <th>2286</th>\n",
              "      <td>In</td>\n",
              "      <td>17000</td>\n",
              "      <td>s001</td>\n",
              "      <td>0</td>\n",
              "      <td>0</td>\n",
              "      <td>2285</td>\n",
              "      <td>399.90</td>\n",
              "    </tr>\n",
              "    <tr>\n",
              "      <th>109460</th>\n",
              "      <td>In</td>\n",
              "      <td>17000</td>\n",
              "      <td>s028</td>\n",
              "      <td>0</td>\n",
              "      <td>0</td>\n",
              "      <td>2503</td>\n",
              "      <td>290.32</td>\n",
              "    </tr>\n",
              "    <tr>\n",
              "      <th>50709</th>\n",
              "      <td>In</td>\n",
              "      <td>17000</td>\n",
              "      <td>s014</td>\n",
              "      <td>0</td>\n",
              "      <td>0</td>\n",
              "      <td>1394</td>\n",
              "      <td>501.59</td>\n",
              "    </tr>\n",
              "    <tr>\n",
              "      <th>80486</th>\n",
              "      <td>In</td>\n",
              "      <td>17000</td>\n",
              "      <td>s021</td>\n",
              "      <td>0</td>\n",
              "      <td>0</td>\n",
              "      <td>2525</td>\n",
              "      <td>210.93</td>\n",
              "    </tr>\n",
              "    <tr>\n",
              "      <th>35626</th>\n",
              "      <td>In</td>\n",
              "      <td>17000</td>\n",
              "      <td>s010</td>\n",
              "      <td>0</td>\n",
              "      <td>0</td>\n",
              "      <td>579</td>\n",
              "      <td>862.35</td>\n",
              "    </tr>\n",
              "    <tr>\n",
              "      <th>...</th>\n",
              "      <td>...</td>\n",
              "      <td>...</td>\n",
              "      <td>...</td>\n",
              "      <td>...</td>\n",
              "      <td>...</td>\n",
              "      <td>...</td>\n",
              "      <td>...</td>\n",
              "    </tr>\n",
              "    <tr>\n",
              "      <th>79391</th>\n",
              "      <td>captain.</td>\n",
              "      <td>35763</td>\n",
              "      <td>s021</td>\n",
              "      <td>12</td>\n",
              "      <td>763</td>\n",
              "      <td>1430</td>\n",
              "      <td>425.18</td>\n",
              "    </tr>\n",
              "    <tr>\n",
              "      <th>116505</th>\n",
              "      <td>captain.</td>\n",
              "      <td>35763</td>\n",
              "      <td>s030</td>\n",
              "      <td>12</td>\n",
              "      <td>763</td>\n",
              "      <td>1489</td>\n",
              "      <td>383.32</td>\n",
              "    </tr>\n",
              "    <tr>\n",
              "      <th>26975</th>\n",
              "      <td>captain.</td>\n",
              "      <td>35763</td>\n",
              "      <td>s007</td>\n",
              "      <td>12</td>\n",
              "      <td>763</td>\n",
              "      <td>3426</td>\n",
              "      <td>506.40</td>\n",
              "    </tr>\n",
              "    <tr>\n",
              "      <th>15206</th>\n",
              "      <td>captain.</td>\n",
              "      <td>35763</td>\n",
              "      <td>s004</td>\n",
              "      <td>12</td>\n",
              "      <td>763</td>\n",
              "      <td>3528</td>\n",
              "      <td>669.29</td>\n",
              "    </tr>\n",
              "    <tr>\n",
              "      <th>83386</th>\n",
              "      <td>captain.</td>\n",
              "      <td>35763</td>\n",
              "      <td>s022</td>\n",
              "      <td>12</td>\n",
              "      <td>763</td>\n",
              "      <td>763</td>\n",
              "      <td>304.40</td>\n",
              "    </tr>\n",
              "  </tbody>\n",
              "</table>\n",
              "<p>136907 rows × 7 columns</p>\n",
              "</div>\n",
              "      <button class=\"colab-df-convert\" onclick=\"convertToInteractive('df-b7bac4b0-b929-441a-b411-9daf4a187ab3')\"\n",
              "              title=\"Convert this dataframe to an interactive table.\"\n",
              "              style=\"display:none;\">\n",
              "        \n",
              "  <svg xmlns=\"http://www.w3.org/2000/svg\" height=\"24px\"viewBox=\"0 0 24 24\"\n",
              "       width=\"24px\">\n",
              "    <path d=\"M0 0h24v24H0V0z\" fill=\"none\"/>\n",
              "    <path d=\"M18.56 5.44l.94 2.06.94-2.06 2.06-.94-2.06-.94-.94-2.06-.94 2.06-2.06.94zm-11 1L8.5 8.5l.94-2.06 2.06-.94-2.06-.94L8.5 2.5l-.94 2.06-2.06.94zm10 10l.94 2.06.94-2.06 2.06-.94-2.06-.94-.94-2.06-.94 2.06-2.06.94z\"/><path d=\"M17.41 7.96l-1.37-1.37c-.4-.4-.92-.59-1.43-.59-.52 0-1.04.2-1.43.59L10.3 9.45l-7.72 7.72c-.78.78-.78 2.05 0 2.83L4 21.41c.39.39.9.59 1.41.59.51 0 1.02-.2 1.41-.59l7.78-7.78 2.81-2.81c.8-.78.8-2.07 0-2.86zM5.41 20L4 18.59l7.72-7.72 1.47 1.35L5.41 20z\"/>\n",
              "  </svg>\n",
              "      </button>\n",
              "      \n",
              "  <style>\n",
              "    .colab-df-container {\n",
              "      display:flex;\n",
              "      flex-wrap:wrap;\n",
              "      gap: 12px;\n",
              "    }\n",
              "\n",
              "    .colab-df-convert {\n",
              "      background-color: #E8F0FE;\n",
              "      border: none;\n",
              "      border-radius: 50%;\n",
              "      cursor: pointer;\n",
              "      display: none;\n",
              "      fill: #1967D2;\n",
              "      height: 32px;\n",
              "      padding: 0 0 0 0;\n",
              "      width: 32px;\n",
              "    }\n",
              "\n",
              "    .colab-df-convert:hover {\n",
              "      background-color: #E2EBFA;\n",
              "      box-shadow: 0px 1px 2px rgba(60, 64, 67, 0.3), 0px 1px 3px 1px rgba(60, 64, 67, 0.15);\n",
              "      fill: #174EA6;\n",
              "    }\n",
              "\n",
              "    [theme=dark] .colab-df-convert {\n",
              "      background-color: #3B4455;\n",
              "      fill: #D2E3FC;\n",
              "    }\n",
              "\n",
              "    [theme=dark] .colab-df-convert:hover {\n",
              "      background-color: #434B5C;\n",
              "      box-shadow: 0px 1px 3px 1px rgba(0, 0, 0, 0.15);\n",
              "      filter: drop-shadow(0px 1px 2px rgba(0, 0, 0, 0.3));\n",
              "      fill: #FFFFFF;\n",
              "    }\n",
              "  </style>\n",
              "\n",
              "      <script>\n",
              "        const buttonEl =\n",
              "          document.querySelector('#df-b7bac4b0-b929-441a-b411-9daf4a187ab3 button.colab-df-convert');\n",
              "        buttonEl.style.display =\n",
              "          google.colab.kernel.accessAllowed ? 'block' : 'none';\n",
              "\n",
              "        async function convertToInteractive(key) {\n",
              "          const element = document.querySelector('#df-b7bac4b0-b929-441a-b411-9daf4a187ab3');\n",
              "          const dataTable =\n",
              "            await google.colab.kernel.invokeFunction('convertToInteractive',\n",
              "                                                     [key], {});\n",
              "          if (!dataTable) return;\n",
              "\n",
              "          const docLinkHtml = 'Like what you see? Visit the ' +\n",
              "            '<a target=\"_blank\" href=https://colab.research.google.com/notebooks/data_table.ipynb>data table notebook</a>'\n",
              "            + ' to learn more about interactive tables.';\n",
              "          element.innerHTML = '';\n",
              "          dataTable['output_type'] = 'display_data';\n",
              "          await google.colab.output.renderOutput(dataTable, element);\n",
              "          const docLink = document.createElement('div');\n",
              "          docLink.innerHTML = docLinkHtml;\n",
              "          element.appendChild(docLink);\n",
              "        }\n",
              "      </script>\n",
              "    </div>\n",
              "  </div>\n",
              "  "
            ]
          },
          "metadata": {},
          "execution_count": 2
        }
      ]
    },
    {
      "cell_type": "markdown",
      "metadata": {
        "id": "0PknaMlKW07p"
      },
      "source": [
        "## Harmonize N-gram surprisal and RT data"
      ]
    },
    {
      "cell_type": "markdown",
      "metadata": {
        "id": "ERdsWnN8zcoR"
      },
      "source": [
        "\n",
        "We have the model-derived surprisal values. To align it with human reading times, complete the following cell. This will create for us a data frame containing both metrics in sync.\n",
        "\n",
        "\n",
        "In `surprisals` each row represents a word. In `sprt` each row represents a word that was displayed in a trial. Therefore, in `sprt` there are multiple row for each word - one for each subject.\n",
        "\n",
        "Note that the words are ordered the same in both files (i.e. they both start with 'In', then 'Ireland's'/'\\<unk\\>, then 'County', and so on.\n",
        "However, there are differences, such as a special token for end of sentence which appears only in `surprisals`, among others.\n",
        "\n",
        "See the PDF instructions for more details.\n"
      ]
    },
    {
      "cell_type": "code",
      "execution_count": null,
      "metadata": {
        "id": "xW1g_nf8v9Vq",
        "colab": {
          "base_uri": "https://localhost:8080/",
          "height": 49
        },
        "outputId": "78097463-5945-4915-bbb1-d5c1bcaa8487"
      },
      "outputs": [
        {
          "output_type": "execute_result",
          "data": {
            "text/plain": [
              "Empty DataFrame\n",
              "Columns: []\n",
              "Index: []"
            ],
            "text/html": [
              "\n",
              "  <div id=\"df-3412cafd-fda4-4851-b995-22aab1a3ba9d\">\n",
              "    <div class=\"colab-df-container\">\n",
              "      <div>\n",
              "<style scoped>\n",
              "    .dataframe tbody tr th:only-of-type {\n",
              "        vertical-align: middle;\n",
              "    }\n",
              "\n",
              "    .dataframe tbody tr th {\n",
              "        vertical-align: top;\n",
              "    }\n",
              "\n",
              "    .dataframe thead th {\n",
              "        text-align: right;\n",
              "    }\n",
              "</style>\n",
              "<table border=\"1\" class=\"dataframe\">\n",
              "  <thead>\n",
              "    <tr style=\"text-align: right;\">\n",
              "      <th></th>\n",
              "    </tr>\n",
              "  </thead>\n",
              "  <tbody>\n",
              "  </tbody>\n",
              "</table>\n",
              "</div>\n",
              "      <button class=\"colab-df-convert\" onclick=\"convertToInteractive('df-3412cafd-fda4-4851-b995-22aab1a3ba9d')\"\n",
              "              title=\"Convert this dataframe to an interactive table.\"\n",
              "              style=\"display:none;\">\n",
              "        \n",
              "  <svg xmlns=\"http://www.w3.org/2000/svg\" height=\"24px\"viewBox=\"0 0 24 24\"\n",
              "       width=\"24px\">\n",
              "    <path d=\"M0 0h24v24H0V0z\" fill=\"none\"/>\n",
              "    <path d=\"M18.56 5.44l.94 2.06.94-2.06 2.06-.94-2.06-.94-.94-2.06-.94 2.06-2.06.94zm-11 1L8.5 8.5l.94-2.06 2.06-.94-2.06-.94L8.5 2.5l-.94 2.06-2.06.94zm10 10l.94 2.06.94-2.06 2.06-.94-2.06-.94-.94-2.06-.94 2.06-2.06.94z\"/><path d=\"M17.41 7.96l-1.37-1.37c-.4-.4-.92-.59-1.43-.59-.52 0-1.04.2-1.43.59L10.3 9.45l-7.72 7.72c-.78.78-.78 2.05 0 2.83L4 21.41c.39.39.9.59 1.41.59.51 0 1.02-.2 1.41-.59l7.78-7.78 2.81-2.81c.8-.78.8-2.07 0-2.86zM5.41 20L4 18.59l7.72-7.72 1.47 1.35L5.41 20z\"/>\n",
              "  </svg>\n",
              "      </button>\n",
              "      \n",
              "  <style>\n",
              "    .colab-df-container {\n",
              "      display:flex;\n",
              "      flex-wrap:wrap;\n",
              "      gap: 12px;\n",
              "    }\n",
              "\n",
              "    .colab-df-convert {\n",
              "      background-color: #E8F0FE;\n",
              "      border: none;\n",
              "      border-radius: 50%;\n",
              "      cursor: pointer;\n",
              "      display: none;\n",
              "      fill: #1967D2;\n",
              "      height: 32px;\n",
              "      padding: 0 0 0 0;\n",
              "      width: 32px;\n",
              "    }\n",
              "\n",
              "    .colab-df-convert:hover {\n",
              "      background-color: #E2EBFA;\n",
              "      box-shadow: 0px 1px 2px rgba(60, 64, 67, 0.3), 0px 1px 3px 1px rgba(60, 64, 67, 0.15);\n",
              "      fill: #174EA6;\n",
              "    }\n",
              "\n",
              "    [theme=dark] .colab-df-convert {\n",
              "      background-color: #3B4455;\n",
              "      fill: #D2E3FC;\n",
              "    }\n",
              "\n",
              "    [theme=dark] .colab-df-convert:hover {\n",
              "      background-color: #434B5C;\n",
              "      box-shadow: 0px 1px 3px 1px rgba(0, 0, 0, 0.15);\n",
              "      filter: drop-shadow(0px 1px 2px rgba(0, 0, 0, 0.3));\n",
              "      fill: #FFFFFF;\n",
              "    }\n",
              "  </style>\n",
              "\n",
              "      <script>\n",
              "        const buttonEl =\n",
              "          document.querySelector('#df-3412cafd-fda4-4851-b995-22aab1a3ba9d button.colab-df-convert');\n",
              "        buttonEl.style.display =\n",
              "          google.colab.kernel.accessAllowed ? 'block' : 'none';\n",
              "\n",
              "        async function convertToInteractive(key) {\n",
              "          const element = document.querySelector('#df-3412cafd-fda4-4851-b995-22aab1a3ba9d');\n",
              "          const dataTable =\n",
              "            await google.colab.kernel.invokeFunction('convertToInteractive',\n",
              "                                                     [key], {});\n",
              "          if (!dataTable) return;\n",
              "\n",
              "          const docLinkHtml = 'Like what you see? Visit the ' +\n",
              "            '<a target=\"_blank\" href=https://colab.research.google.com/notebooks/data_table.ipynb>data table notebook</a>'\n",
              "            + ' to learn more about interactive tables.';\n",
              "          element.innerHTML = '';\n",
              "          dataTable['output_type'] = 'display_data';\n",
              "          await google.colab.output.renderOutput(dataTable, element);\n",
              "          const docLink = document.createElement('div');\n",
              "          docLink.innerHTML = docLinkHtml;\n",
              "          element.appendChild(docLink);\n",
              "        }\n",
              "      </script>\n",
              "    </div>\n",
              "  </div>\n",
              "  "
            ]
          },
          "metadata": {},
          "execution_count": 4
        }
      ],
      "source": [
        "def harmonize(rt_data: pd.DataFrame, surprs_data: pd.DataFrame) -> pd.DataFrame:\n",
        "    # TODO\n",
        "    return pd.DataFrame()\n",
        "\n",
        "harmonized_df = harmonize(sprt, surprisals)\n",
        "harmonized_df"
      ]
    },
    {
      "cell_type": "markdown",
      "source": [
        "When you are done with this step, save the result using the following code"
      ],
      "metadata": {
        "id": "imQuaHGhQXTq"
      }
    },
    {
      "cell_type": "code",
      "source": [
        "harmonized_df.to_csv(\"harmonized_ngram.csv\")"
      ],
      "metadata": {
        "id": "zpxghvTFQUvs"
      },
      "execution_count": null,
      "outputs": []
    },
    {
      "cell_type": "markdown",
      "metadata": {
        "id": "gTkXUVcR8mLC"
      },
      "source": [
        "Great, now you're ready to start doing analysis on this output data!"
      ]
    },
    {
      "cell_type": "markdown",
      "metadata": {
        "id": "RzoEeq79FALR"
      },
      "source": [
        "# Analyses\n",
        "\n",
        "Now that we've obtained our harmonized surprisal-vs-RT files, let's perform some analysis on the data."
      ]
    },
    {
      "cell_type": "markdown",
      "source": [
        "## 1. Univariate linear regression\n",
        "Here is an overview of the analysis we want you to run.\n",
        "\n",
        "* For each of `metric` in `{surprisal, raw_probability}`:\n",
        "\n",
        "    * Fit a linear regression model to predict RTs from the metric. You should report the\n",
        "coefficient for the metric term (slope) and a corresponding $t$-score and $p$-value (to\n",
        "determine whether it is significantly different from 0), as well as an $R^2$-score (the\n",
        "coefficient of determination) of the model.;\n",
        "    * Draw metric-RT scatterplot with best-fit line, **without** binning RT values; and\n",
        "    * Draw metric-RT scatterplot with best-fit line, **with** binning RT values.\n"
      ],
      "metadata": {
        "id": "SekD8Psn43xX"
      }
    },
    {
      "cell_type": "markdown",
      "source": [
        "### `Metric` = `Surprisal`\n"
      ],
      "metadata": {
        "id": "oPeIDhAP6hMa"
      }
    },
    {
      "cell_type": "markdown",
      "source": [
        "Fit a linear regression"
      ],
      "metadata": {
        "id": "IhGe3Gil6jYt"
      }
    },
    {
      "cell_type": "code",
      "source": [
        "import numpy as np\n",
        "import statsmodels.api as sm\n",
        "import pandas as pd\n",
        "\n",
        "data = pd.read_csv(\"harmonized_ngram.csv\")\n",
        "\n",
        "# Fit and summarize OLS model\n",
        "#TODO\n",
        "\n",
        "lin_model= #TODO\n",
        "\n",
        "print(lin_model.summary())"
      ],
      "metadata": {
        "id": "YrB_v-2Owo7j"
      },
      "execution_count": null,
      "outputs": []
    },
    {
      "cell_type": "markdown",
      "source": [
        "The function `.summary()` outputs a variety of metrices and statistical tests. Here we are intrested in model's parameters (the coefficients), their $t$ score, and the corresponding $p$-values, as well as in the overall  $R^2$ - score of the model.\n",
        "\n",
        "Now let's create a scatterplot of our data accompanied by the best-fit line"
      ],
      "metadata": {
        "id": "wG7pKOFnzBvc"
      }
    },
    {
      "cell_type": "markdown",
      "source": [
        "Without Binning:"
      ],
      "metadata": {
        "id": "Npm4wEbq7LIK"
      }
    },
    {
      "cell_type": "code",
      "execution_count": null,
      "metadata": {
        "id": "dnB76_3xdJfa"
      },
      "outputs": [],
      "source": [
        "import matplotlib.pyplot as plt\n",
        "import seaborn as sns; sns.set(style=\"white\", color_codes=True)\n",
        "\n",
        "g = sns.jointplot(x=\"surprisal\", y=\"mean_rt\", data=data, kind='reg')\n",
        "# We're going to make the regression line red so it's easier to see\n",
        "regline = g.ax_joint.get_lines()[0]\n",
        "regline.set_color('red')\n",
        "\n"
      ]
    },
    {
      "cell_type": "markdown",
      "source": [
        "With Binning:"
      ],
      "metadata": {
        "id": "PJK1wmVF7cL4"
      }
    },
    {
      "cell_type": "code",
      "source": [
        "g = sns.regplot(x=\"surprisal\", y=\"mean_rt\", data=ngram, x_bins=15)\n",
        "g.set_ylim([250, 350])\n"
      ],
      "metadata": {
        "id": "KH1cuqcQ7hU4"
      },
      "execution_count": null,
      "outputs": []
    },
    {
      "cell_type": "markdown",
      "source": [
        "### `Metric` = `Raw_probability`\n"
      ],
      "metadata": {
        "id": "6tk2S4Mo8WUX"
      }
    },
    {
      "cell_type": "markdown",
      "source": [
        "After running the code cells above, your next task is to reproduce this analysis for `metric=raw_probability`.\n",
        "\n",
        "Note that you can transform the surprisal values in the data frames by simply applying standard math and `numpy` operators. For example, this code takes each surprisal value to the power of 3 and adds 0.1:"
      ],
      "metadata": {
        "id": "MpqZ8IWe8j15"
      }
    },
    {
      "cell_type": "code",
      "source": [
        "np.power(ngram.surprisal, 3) + 0.1"
      ],
      "metadata": {
        "id": "HefmIIJ48qCA"
      },
      "execution_count": null,
      "outputs": []
    },
    {
      "cell_type": "code",
      "source": [
        "### TODO: Your code here\n",
        "# Compute contextual word probabilities from the surprisal data,\n",
        "# and repeat the analysis of the above section."
      ],
      "metadata": {
        "id": "kdfz7nVD8sJp"
      },
      "execution_count": null,
      "outputs": []
    },
    {
      "cell_type": "markdown",
      "source": [
        "### Interpret the results"
      ],
      "metadata": {
        "id": "RChkirr-8ytQ"
      }
    },
    {
      "cell_type": "markdown",
      "source": [
        "\n",
        "* Does the univariate analysis support the hypothesis of a linear\n",
        "relationship between word surprisal and word reading time?\n",
        "* Is that hypothesis better or\n",
        "worse than an alternative hypothesis of a linear relationship between raw word probability and word reading time?\n",
        "* Are there other alternative hypotheses that might be even more\n",
        "compelling given the data?"
      ],
      "metadata": {
        "id": "gXmonQaa87eR"
      }
    },
    {
      "cell_type": "markdown",
      "source": [
        "\n",
        "**TODO**: Your answer"
      ],
      "metadata": {
        "id": "ujLmG4DV8_-T"
      }
    },
    {
      "cell_type": "markdown",
      "source": [
        "\n",
        "\n",
        "### 2. Multiple regression analysis : Adding control variables"
      ],
      "metadata": {
        "id": "qGht-jSk3bjj"
      }
    },
    {
      "cell_type": "markdown",
      "source": [
        "In this stage we want to add two control variables to our linear model and reexamine the effect of surprisal *above and beyond* these variables. The two variables are **word-length** and **word log-frequency**.\n",
        "\n",
        "First, you should write a code that creates those variables.\n"
      ],
      "metadata": {
        "id": "2FoH8BF45b0J"
      }
    },
    {
      "cell_type": "markdown",
      "source": [
        "Word-length:"
      ],
      "metadata": {
        "id": "G0CNHraV8ggs"
      }
    },
    {
      "cell_type": "code",
      "source": [
        "### TODO: your code here\n",
        "# calculate the word-length for each word in the dataset and add this information as a new column in harmonized_ngram.csv"
      ],
      "metadata": {
        "id": "JJgr0oqU3anZ"
      },
      "execution_count": null,
      "outputs": []
    },
    {
      "cell_type": "markdown",
      "source": [
        "Word log-frequency:\n",
        "\n",
        "For each word $w_i$ in our `harmonized_ngram.csv` dataset, we want to obtain the  $log(frequency(w_i))$ of $w_i$ using a different, large corpus of text. You will first download the *tokenized* version of the **PTB** dataset (no other preprocessing stages are needed) and then write a code for calculating each word's log-frequency."
      ],
      "metadata": {
        "id": "w6DLv_dv8k-G"
      }
    },
    {
      "cell_type": "code",
      "source": [
        "# Downloads ptb_tok_train.txt\n",
        "!wget -qO ptb_tok_train.txt https://gist.githubusercontent.com/omershubi/cdd4231472d6188f03ab21e2b2729fee/raw/e1b4c764561fd038470830534baaa220b0eb4c6d/ptb_tok_train.txt\n",
        "!head ptb_tok_train.txt"
      ],
      "metadata": {
        "id": "q-lun1Wl1Elg",
        "colab": {
          "base_uri": "https://localhost:8080/"
        },
        "outputId": "b64484bf-22f2-4866-eae4-702527aca715"
      },
      "execution_count": null,
      "outputs": [
        {
          "output_type": "stream",
          "name": "stdout",
          "text": [
            "In an Oct. 19 review of `` The Misanthrope '' at Chicago 's Goodman Theatre -LRB- `` <unk> <unk> Take the Stage in <unk> City , '' Leisure & Arts -RRB- , the role of Celimene , played by Kim <unk> , was mistakenly attributed to Christina Haag .\n",
            "Ms. Haag plays <unk> .\n",
            "Rolls-Royce Motor Cars Inc. said it expects its U.S. sales to remain steady at about 1,200 cars in 1990 .\n",
            "The luxury auto maker last year sold <unk> cars in the U.S.\n",
            "Howard <unk> , president and chief executive officer , said he anticipates growth for the luxury auto maker in Britain and Europe , and in Far Eastern markets .\n",
            "<unk> INDUSTRIES Inc. increased its quarterly to 10 cents from seven cents a share .\n",
            "The new rate will be payable Feb. 15 .\n",
            "A record date has n't been set .\n",
            "Bell , based in Los Angeles , makes and distributes electronic , computer and building products .\n",
            "Investors are appealing to the Securities and Exchange Commission not to limit their access to information about stock purchases and sales by corporate insiders .\n"
          ]
        }
      ]
    },
    {
      "cell_type": "code",
      "source": [
        "###TODO: your code here\n",
        "#calculate log frequencies and add the information as a new column in harmonized_ngram.csv"
      ],
      "metadata": {
        "id": "IJuRF6fp81LV"
      },
      "execution_count": null,
      "outputs": []
    },
    {
      "cell_type": "markdown",
      "source": [
        "***Multiple regression analysis:***\n",
        "\n",
        "Based on the code above (section 1: univariate linear regression), write a new code for multiple regresion analysis."
      ],
      "metadata": {
        "id": "SY7cAfKB9p2y"
      }
    },
    {
      "cell_type": "code",
      "source": [
        "###TODO: your code here"
      ],
      "metadata": {
        "id": "dQ5e05SR9uoU"
      },
      "execution_count": null,
      "outputs": []
    },
    {
      "cell_type": "markdown",
      "source": [
        "###Interpret the results\n",
        "* How does the surprisal coefficient of this model compare to the\n",
        "surprisal coefficient in the univariate model?\n",
        "* Does your conclusion regarding the effect of\n",
        "suprisal on RTs from the univariate analysis still hold?\n",
        "\n"
      ],
      "metadata": {
        "id": "8VGnbOuOBhbW"
      }
    },
    {
      "cell_type": "markdown",
      "source": [
        "**TODO**: Your answer"
      ],
      "metadata": {
        "id": "16nNku0O-i-z"
      }
    },
    {
      "cell_type": "markdown",
      "source": [
        "# Export to PDF\n",
        "\n",
        "Run the following cell to download the notebook as a nicely formatted pdf file."
      ],
      "metadata": {
        "id": "z4eARyv1O8du"
      }
    },
    {
      "cell_type": "code",
      "source": [
        "# Add to a new cell at the end of the notebook and run the follow code,\n",
        "# which will save the notebook as pdf in your google drive (allow the permissions) and download it automatically.\n",
        "\n",
        "!wget -nc https://raw.githubusercontent.com/omershubi/colab-pdf/master/colab_pdf.py\n",
        "\n",
        "from colab_pdf import colab_pdf\n",
        "\n",
        "# If you saved the notebook in the default location in your Google Drive,\n",
        "#  and didn't change the name of the file, the code should work as is. If not, adapt accordingly.\n",
        "# E.g. in your case the file name may be \"Copy of XXXX.ipynb\"\n",
        "\n",
        "colab_pdf(file_name='Pset_2_RT_and_surprisal.ipynb', notebookpath=\"drive/MyDrive/Colab Notebooks\")"
      ],
      "metadata": {
        "id": "PKRVyInSO8yu"
      },
      "execution_count": null,
      "outputs": []
    }
  ],
  "metadata": {
    "colab": {
      "provenance": [],
      "include_colab_link": true
    },
    "kernelspec": {
      "display_name": "Python 3",
      "name": "python3"
    }
  },
  "nbformat": 4,
  "nbformat_minor": 0
}